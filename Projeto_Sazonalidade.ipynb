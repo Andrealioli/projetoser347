{
 "cells": [
  {
   "cell_type": "markdown",
   "metadata": {},
   "source": [
    "# Sazonalidade de cheias – Seasonality Index"
   ]
  },
  {
   "cell_type": "markdown",
   "metadata": {},
   "source": [
    " * Ana Calderaro\n",
    " * Andréa Lima\n",
    " * Felício Cassalho\n"
   ]
  },
  {
   "cell_type": "code",
   "execution_count": null,
   "metadata": {},
   "outputs": [],
   "source": [
    "#Esta função recebe a localização de um arquivo e calcula o angulo theta\n",
    "def sazonalidade(file_location):\n",
    "#Função que calcula o valor do angulo theta de cada ano de uma estação\n",
    "    def theta(file_location):\n",
    "        import pandas as pd\n",
    "        import numpy as np\n",
    "        #Carregando a planilha excel\n",
    "        xl = pd.ExcelFile(file_location)\n",
    "        #trnasformando a planilha em um dataframe\n",
    "        df1 = xl.parse('Plan1')\n",
    "\n",
    "        #Transformando uma data em dia Juliano\n",
    "        import datetime as dt\n",
    "        data_flood = [df1.loc[:]['DATE_ACESS']]\n",
    "        jd = [ts.dt.dayofyear for ts in data_flood]\n",
    "        anos_bis = [ts.dt.is_leap_year for ts in data_flood]\n",
    "    #Calculando o angulo theta\n",
    "        angulo_theta = np.empty(shape=np.shape(jd))\n",
    "        for j in range(0,len(angulo_theta[0][:]-1)):\n",
    "            if anos_bis[0][j]==True:\n",
    "                angulo_theta[0][j] = jd[0][j]*2*np.pi/366\n",
    "            elif anos_bis[0][j] == False:\n",
    "                angulo_theta[0][j] = jd[0][j] * 2 * np.pi / 365\n",
    "        angulo_theta = angulo_theta[0][:]\n",
    "        return(angulo_theta)\n",
    "\n",
    "   \n",
    "\n",
    "    \n",
    "  \n",
    "   "
   ]
  },
  {
   "cell_type": "code",
   "execution_count": null,
   "metadata": {},
   "outputs": [],
   "source": [
    " # Função que calcula o valor de x\n",
    "    def x (angulo_theta):\n",
    "        import numpy as np\n",
    "        import math\n",
    "        costheta = [math.cos(i) for i in angulo_theta]\n",
    "        xvalue= sum(costheta)/len(costheta)\n",
    "        return(xvalue)"
   ]
  },
  {
   "cell_type": "code",
   "execution_count": null,
   "metadata": {},
   "outputs": [],
   "source": [
    "  #Função que calcula o valor de r com base nos valores de x e y\n",
    "    def r (x, y):\n",
    "        import numpy as np\n",
    "        import math\n",
    "        rvalue = math.sqrt(x**2+y**2)\n",
    "        return(rvalue)\n"
   ]
  },
  {
   "cell_type": "code",
   "execution_count": null,
   "metadata": {},
   "outputs": [],
   "source": [
    "# Função que calcula o valor de y\n",
    "    def y (angulo_theta):\n",
    "        import numpy as np\n",
    "        import math\n",
    "        sintheta = [math.sin(i) for i in angulo_theta]\n",
    "        yvalue = sum(sintheta) / len(sintheta)\n",
    "        return (yvalue)\n"
   ]
  },
  {
   "cell_type": "code",
   "execution_count": null,
   "metadata": {},
   "outputs": [],
   "source": [
    " def angtheta(x, y):\n",
    "        import math\n",
    "        import numpy as np\n",
    "        if x > 0 and y > 0:\n",
    "            t = math.atan(y/x)\n",
    "        elif x < 0:\n",
    "            t = math.atan(y/x)+ math.pi\n",
    "        elif x > 0 and y < 0:\n",
    "            t = math.atan(y/x) + 2*math.pi\n",
    "        elif x == 0 and y > 0:\n",
    "            t = math.pi/2\n",
    "        elif x == 0 and y < 0:\n",
    "            t = (3*math.pi)/2\n",
    "        elif x==0 and y==0:\n",
    "            t = None\n",
    "        return(t)\n",
    "    def mdf(t):\n",
    "        import math\n",
    "        import numpy as np\n",
    "        m = (t*365)/(2*math.pi)\n",
    "        return(m)\n",
    "    import numpy as np\n",
    "    index = np.empty(5)\n",
    "    index[0] = x(theta(file_location))\n",
    "    index[1] = y(theta(filename))\n",
    "    index[2] = r(index[0], index[1])\n",
    "    index[3] = angtheta(index[0], index[1])\n",
    "    index[4] = mdf(index[3])\n",
    "\n",
    "\n",
    "    print(\"Valores [x, y, r, theta, mdf] \", index )\n",
    "    return(index)\n"
   ]
  }
 ],
 "metadata": {
  "kernelspec": {
   "display_name": "Python (geospatial)",
   "language": "python",
   "name": "geospatial"
  },
  "language_info": {
   "codemirror_mode": {
    "name": "ipython",
    "version": 3
   },
   "file_extension": ".py",
   "mimetype": "text/x-python",
   "name": "python",
   "nbconvert_exporter": "python",
   "pygments_lexer": "ipython3",
   "version": "3.6.5"
  }
 },
 "nbformat": 4,
 "nbformat_minor": 2
}
