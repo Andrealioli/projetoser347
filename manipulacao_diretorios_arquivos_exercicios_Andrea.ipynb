{
 "cells": [
  {
   "cell_type": "markdown",
   "metadata": {},
   "source": [
    "# <span style=\"color:#336699\">SER-347 - Introdução à Programação para Sensoriamento Remoto</span>\n",
    "<hr style=\"border:2px solid #0077b9;\">\n",
    "\n",
    "# <span style=\"color:#336699\">Aula 15 - Manipulacao de Datas, Diretórios e Arquivos</span>\n",
    "\n",
    "- Fabiano Morelli\n",
    "- Gilberto Ribeiro de Queiroz\n",
    "- Thales Sehn Körting"
   ]
  },
  {
   "cell_type": "markdown",
   "metadata": {},
   "source": [
    "# 1. Revisão das aulas 6 e 7\n",
    "<hr style=\"border:1px solid #0077b9;\">\n",
    "Considerando a string <b>'dados_exemplo/foc_sev_20161010.bin' </b>\n",
    "\n",
    "Se o símbolo ”/” for um separador, e então definir duas partes da string com nome caminho e nome\n",
    "\n",
    "caminho = 'dados_exemplo’\n",
    "\n",
    "nome = 'foc_sev_20161010.bin’\n",
    "\n",
    "## Escreva um conjunto de comandos parar separar a string do ínicio do slide e imprimir apenas o nome do arquivo. \n",
    "\n",
    "Possíveis soluções:\n",
    "\n",
    " - Utilizando o operador de strings SPLIT\n",
    " - Utilizando o fatiamento de strings \n",
    " - Utilizando operador FIND\n",
    " \n"
   ]
  },
  {
   "cell_type": "code",
   "execution_count": 1,
   "metadata": {},
   "outputs": [
    {
     "name": "stdout",
     "output_type": "stream",
     "text": [
      "foc_sev_20161010.bin\n"
     ]
    }
   ],
   "source": [
    "# Exemplo 1 - Utilizando operador SPLIT\n",
    "str1 = \"dados_exemplo/foc_sev_20161010.bin\"\n",
    "\n",
    "nome = str1.split('/')[1] \n",
    "print(nome)"
   ]
  },
  {
   "cell_type": "code",
   "execution_count": 6,
   "metadata": {},
   "outputs": [
    {
     "name": "stdout",
     "output_type": "stream",
     "text": [
      "foc_sev_20161010.bin\n"
     ]
    }
   ],
   "source": [
    "# Exemplo 2 - Utilizando fatiamento de strings\n",
    "# considere o índice dos caracteres começando em 0 (zero) sendo contado da esquerda para a direita;\n",
    "# o fatiamento utiliza como parâmetros a posição inicial até uma posição além da desejada, ou até o final da sting\n",
    "str1 = \"dados_exemplo/foc_sev_20161010.bin\"\n",
    "\n",
    "nome = str1[14:]\n",
    "print(nome)"
   ]
  },
  {
   "cell_type": "code",
   "execution_count": 5,
   "metadata": {},
   "outputs": [
    {
     "name": "stdout",
     "output_type": "stream",
     "text": [
      "foc_sev_20161010.bin\n"
     ]
    }
   ],
   "source": [
    "# Exemplo 3 - Utilizando fatiamento de strings\n",
    "# considere o índice dos caracteres começando em -1 (menos um) contado da direita para a esquerda;\n",
    "# o fatiamento utiliza como parâmetros a posição inicial (esquerda para direita) até \n",
    "# uma posição além da desejada, ou até o final da sting\n",
    "str1 = \"dados_exemplo/foc_sev_20161010.bin\"\n",
    "\n",
    "nome = str1[-20:] \n",
    "print(nome)"
   ]
  },
  {
   "cell_type": "code",
   "execution_count": 3,
   "metadata": {},
   "outputs": [
    {
     "name": "stdout",
     "output_type": "stream",
     "text": [
      "foc_sev_20161010.bin\n"
     ]
    }
   ],
   "source": [
    "# Exemplo 2 - Utilizando o operador FIND e fatiamento de strings\n",
    "#\n",
    "# O Find deve procurar e retornar o índice de localização da primeira ocorrência da string procurada;\n",
    "# considere utilizar o resultado no índice dos caracteres contado da esquerda para a direita;\n",
    "\n",
    "str1 = \"dados_exemplo/foc_sev_20161010.bin\"\n",
    "\n",
    "nome = str1[str1.find(\"foc\"):]\n",
    "print(nome)"
   ]
  },
  {
   "cell_type": "markdown",
   "metadata": {},
   "source": [
    "<hr>\n",
    "# Exercício 1 - Criar um novo nome de arquivo\n",
    "\n",
    "## Desejo utilizar a string \"dados_exemplo/foc_sev_20161010.bin\" como entrada para mudar no nome do arquivo a extensão de ”bin” para ”hdr” e imprimir apenas o novo nome."
   ]
  },
  {
   "cell_type": "code",
   "execution_count": 2,
   "metadata": {},
   "outputs": [
    {
     "name": "stdout",
     "output_type": "stream",
     "text": [
      "dados_exemplo/foc_sev_20161010.hdr\n"
     ]
    }
   ],
   "source": [
    "str1 = 'dados_exemplo/foc_sev_20161010.bin'\n",
    "nome = str1.replace('bin', 'hdr')\n",
    "\n",
    "print(nome)  # Exemplo incompleto pois não está imprimindo apenas o nome do arquivo!\n"
   ]
  },
  {
   "cell_type": "code",
   "execution_count": 4,
   "metadata": {},
   "outputs": [
    {
     "name": "stdout",
     "output_type": "stream",
     "text": [
      "foc_sev_20161010.hdr\n"
     ]
    }
   ],
   "source": [
    "# Complete aqui seu código\n",
    "str1 = 'dados_exemplo/foc_sev_20161010.bin'\n",
    "nome = str1.replace('bin', 'hdr')\n",
    "nome = nome[nome.find(\"foc\"):]\n",
    "print(nome) "
   ]
  },
  {
   "cell_type": "markdown",
   "metadata": {},
   "source": [
    "<hr>\n",
    "# Exercício 2 - Criar uma variável do tipo lista com nomes de arquivos seguindo o padrão utilizado nos exemplos anteriores, sendo um nome para cada dia do mês de outubro no ano 2016, e imprimir um nome por linha.\n",
    "# dica https://pyformat.info"
   ]
  },
  {
   "cell_type": "code",
   "execution_count": 9,
   "metadata": {},
   "outputs": [
    {
     "name": "stdout",
     "output_type": "stream",
     "text": [
      "foc_sev_20161010.bin\n",
      "foc_sev_20161011.bin\n",
      "foc_sev_20161012.bin\n",
      "foc_sev_20161013.bin\n",
      "foc_sev_20161014.bin\n",
      "foc_sev_20161015.bin\n"
     ]
    }
   ],
   "source": [
    "# Complete aqui seu código\n",
    "import os\n",
    "\n",
    "filenames = ['foc_sev_20161010.bin',\n",
    " 'foc_sev_20161011.bin',\n",
    " 'foc_sev_20161012.bin',\n",
    " 'foc_sev_20161013.bin',\n",
    " 'foc_sev_20161014.bin',\n",
    " 'foc_sev_20161015.bin']\n",
    "\n",
    "for i in range(len(filenames)):\n",
    "    print(filenames[i])\n"
   ]
  },
  {
   "cell_type": "markdown",
   "metadata": {
    "collapsed": true
   },
   "source": [
    "# 2. Manipulação de Datas utilizandos a biblioteca datetime\n",
    "<hr style=\"border:1px solid #0077b9;\">\n",
    "\n",
    "\n",
    "Detalhes da documentação oficial do Python podem ser encontrados em https://docs.python.org/2/library/datetime.html"
   ]
  },
  {
   "cell_type": "code",
   "execution_count": 10,
   "metadata": {},
   "outputs": [],
   "source": [
    "# Importação da biblioteca a ser utilizada\n",
    "import datetime as dt"
   ]
  },
  {
   "cell_type": "markdown",
   "metadata": {
    "collapsed": true
   },
   "source": [
    "Método para retornar um objeto do tipo data com os valores atuais do sistema:"
   ]
  },
  {
   "cell_type": "code",
   "execution_count": 11,
   "metadata": {},
   "outputs": [
    {
     "data": {
      "text/plain": [
       "datetime.date(2018, 5, 14)"
      ]
     },
     "execution_count": 11,
     "metadata": {},
     "output_type": "execute_result"
    }
   ],
   "source": [
    "dt.date.today()"
   ]
  },
  {
   "cell_type": "code",
   "execution_count": 12,
   "metadata": {},
   "outputs": [],
   "source": [
    "# Criação de uma variável para guardar o valor da data atual\n",
    "data_atual = dt.date.today()"
   ]
  },
  {
   "cell_type": "code",
   "execution_count": 29,
   "metadata": {},
   "outputs": [
    {
     "name": "stdout",
     "output_type": "stream",
     "text": [
      "2018-05-14\n"
     ]
    }
   ],
   "source": [
    "# Verificação do valor da variável\n",
    "print(data_atual)"
   ]
  },
  {
   "cell_type": "markdown",
   "metadata": {
    "nbpresent": {
     "id": "81d24e7c-910f-40a0-aa1f-b4140c8e43eb"
    },
    "slideshow": {
     "slide_type": "slide"
    }
   },
   "source": [
    "O objeto data pode ser manipulado por meio de suas propriedades extraindo apenas uma parte do valor.\n",
    "\n",
    "**Exemplo**\n",
    "\n",
    "# data_atual.year   \n",
    "\n",
    "# data_atual.month    \n",
    "\n",
    "# data_atual.day"
   ]
  },
  {
   "cell_type": "markdown",
   "metadata": {
    "nbpresent": {
     "id": "544905c1-0528-42fe-a6e5-0865a6bd0aa5"
    },
    "slideshow": {
     "slide_type": "slide"
    }
   },
   "source": [
    "O Objeto de data possui outros métodos "
   ]
  },
  {
   "cell_type": "code",
   "execution_count": 30,
   "metadata": {
    "nbpresent": {
     "id": "e68a9730-4473-42b1-82d9-13edb6362b71"
    },
    "slideshow": {
     "slide_type": "fragment"
    }
   },
   "outputs": [
    {
     "data": {
      "text/plain": [
       "time.struct_time(tm_year=2018, tm_mon=5, tm_mday=14, tm_hour=0, tm_min=0, tm_sec=0, tm_wday=0, tm_yday=134, tm_isdst=-1)"
      ]
     },
     "execution_count": 30,
     "metadata": {},
     "output_type": "execute_result"
    }
   ],
   "source": [
    "data_atual.timetuple()"
   ]
  },
  {
   "cell_type": "code",
   "execution_count": 31,
   "metadata": {},
   "outputs": [
    {
     "data": {
      "text/plain": [
       "time.struct_time(tm_year=2018, tm_mon=5, tm_mday=14, tm_hour=0, tm_min=0, tm_sec=0, tm_wday=0, tm_yday=134, tm_isdst=-1)"
      ]
     },
     "execution_count": 31,
     "metadata": {},
     "output_type": "execute_result"
    }
   ],
   "source": [
    "data_atual.timetuple()"
   ]
  },
  {
   "cell_type": "markdown",
   "metadata": {},
   "source": [
    "# Exercício 3 -  Armazenar o valor do dia juliano da data atual em uma nova variável e imprimir o valor desta variável."
   ]
  },
  {
   "cell_type": "code",
   "execution_count": 37,
   "metadata": {},
   "outputs": [
    {
     "name": "stdout",
     "output_type": "stream",
     "text": [
      "O dia julinao de hoje é: 134\n"
     ]
    }
   ],
   "source": [
    "# Complete aqui seu código\n",
    "jday=data_atual.timetuple()[7]\n",
    "print(\"O dia julinao de hoje é:\", jday)"
   ]
  },
  {
   "cell_type": "markdown",
   "metadata": {
    "nbpresent": {
     "id": "a2669f9f-6411-4f83-b5f8-f708f72af10a"
    },
    "slideshow": {
     "slide_type": "slide"
    }
   },
   "source": [
    "Outra forma de definição de uma data em um objeto datetime é atribuindo os valores de ano, mes e dia diretamente no método date:\n",
    "\n",
    "**dt.date(2016,01,01)**\n",
    "\n",
    "também é possível definir a partir de uma string representando uma data completa ou \"date and time\" correspondente a uma string de formato: \n",
    "\n",
    "** datetime.strptime(date_string, format) **"
   ]
  },
  {
   "cell_type": "markdown",
   "metadata": {
    "nbpresent": {
     "id": "656585d9-f437-4235-8dab-d14547964fda"
    },
    "slideshow": {
     "slide_type": "slide"
    }
   },
   "source": [
    "# Exercício 4 - Definir uma variável que represente a data referente ao início do ano anterior, e imprimir o valor desta variável."
   ]
  },
  {
   "cell_type": "code",
   "execution_count": 39,
   "metadata": {},
   "outputs": [
    {
     "name": "stdout",
     "output_type": "stream",
     "text": [
      "2017-01-01\n"
     ]
    }
   ],
   "source": [
    "# Complete aqui seu código\n",
    "inicio_ano_ant = dt.date(data_atual.year-1, 1, 1)\n",
    "print(inicio_ano_ant)"
   ]
  },
  {
   "cell_type": "markdown",
   "metadata": {
    "nbpresent": {
     "id": "605eab26-7144-4e63-b0d7-fafb5e0a1fcf"
    },
    "slideshow": {
     "slide_type": "slide"
    }
   },
   "source": [
    "# Exercício 5 - Definir uma variável que represente a data referente ao final do ano anterior, e imprimir o valor desta variável."
   ]
  },
  {
   "cell_type": "code",
   "execution_count": 42,
   "metadata": {},
   "outputs": [
    {
     "name": "stdout",
     "output_type": "stream",
     "text": [
      "2017-12-31\n"
     ]
    }
   ],
   "source": [
    "# Complete aqui seu código\n",
    "fim_ano_ant = dt.date(data_atual.year-1, 12, 31)\n",
    "print(fim_ano_ant)"
   ]
  },
  {
   "cell_type": "markdown",
   "metadata": {
    "nbpresent": {
     "id": "79e02db1-40b7-4f65-88b4-0bb63a87f037"
    },
    "slideshow": {
     "slide_type": "slide"
    }
   },
   "source": [
    "## Formatação de data para apresentação\n",
    "A partir de um objeto datetime o programa pode manipular qualquer parte de uma struct_time, porém muitas vezes é desejável mudar a formatação, podendo ser na construção de um objeto datetime ou na apresentação. Detalhes para criar a string de formatação podem ser vistos em https://docs.python.org/2/library/datetime.html#strftime-and-strptime-behavior"
   ]
  },
  {
   "cell_type": "markdown",
   "metadata": {},
   "source": [
    "# Exercício 6 - Imprimir a variável ou objeto data_atual no padrão brasileiro \n",
    "# (mês/dia/ano ex: 04/05/2018)"
   ]
  },
  {
   "cell_type": "code",
   "execution_count": 59,
   "metadata": {},
   "outputs": [
    {
     "name": "stdout",
     "output_type": "stream",
     "text": [
      "14/05/2018\n"
     ]
    }
   ],
   "source": [
    "# Apresentação da data no padrão brasileiro\n",
    "# Complete aqui seu código\n",
    "data_br = dt.date.today().strftime(\"%d/%m/%Y\")\n",
    "print(data_br)"
   ]
  },
  {
   "cell_type": "markdown",
   "metadata": {},
   "source": [
    "# Exercício 7 - Imprimir a variável ou objeto data_atual no padrão ano_diaJuliano \n",
    "# (ex: 2018_124)"
   ]
  },
  {
   "cell_type": "code",
   "execution_count": 61,
   "metadata": {},
   "outputs": [
    {
     "name": "stdout",
     "output_type": "stream",
     "text": [
      "2018_134\n"
     ]
    }
   ],
   "source": [
    "# Apresentação da data com Ano_diaJuliano\n",
    "# Complete aqui seu código\n",
    "data_juliano = dt.date.today().strftime(\"%Y_%j\")\n",
    "print(data_juliano)"
   ]
  },
  {
   "cell_type": "markdown",
   "metadata": {
    "nbpresent": {
     "id": "6bbc8217-3ac2-47ab-b0c3-8a22aec6e817"
    },
    "slideshow": {
     "slide_type": "slide"
    }
   },
   "source": [
    "# Exercício - 8 Criar um objeto datetime tendo como entrada '20171024 07:34:18'"
   ]
  },
  {
   "cell_type": "code",
   "execution_count": 72,
   "metadata": {},
   "outputs": [
    {
     "name": "stdout",
     "output_type": "stream",
     "text": [
      "2017-10-24 07:34:18\n"
     ]
    }
   ],
   "source": [
    "# Exercício: criar um objeto datetime tendo como entrada '20171024 07:34:18'\n",
    "# Complete aqui seu código\n",
    "date_str = \"20171024 07:34:18\"\n",
    "fmt = \"%Y%m%d %H:%M:%S\"\n",
    "data_obj = dt.datetime.strptime(date_str,fmt)\n",
    "print(data_obj)"
   ]
  },
  {
   "cell_type": "markdown",
   "metadata": {},
   "source": [
    "# Exercício 9  - Criar um objeto datetime tendo como entrada o dia juliano 109 do ano 2016 e depois apresentar o resutado com formato brasileiro dia/mes/ano"
   ]
  },
  {
   "cell_type": "code",
   "execution_count": 74,
   "metadata": {},
   "outputs": [
    {
     "name": "stdout",
     "output_type": "stream",
     "text": [
      "18/04/2016\n"
     ]
    }
   ],
   "source": [
    "# Complete aqui seu código\n",
    "data_j = \"1092016\"\n",
    "fmtj = \"%j%Y\"\n",
    "#Criando um objeto datatime e imprimindo de acordo com o formato brasileiro\n",
    "data_obj_j = dt.datetime.strptime(data_j, fmtj) \n",
    "print(dt.datetime.strftime(data_obj_j, \"%d/%m/%Y\"))"
   ]
  },
  {
   "cell_type": "markdown",
   "metadata": {},
   "source": [
    "# Exercício 10 -Criar uma variável que represente o número de dias consecutivos entre a data atual e o início do ano anterior e imprimir o valor desta variável.\n",
    "\n"
   ]
  },
  {
   "cell_type": "code",
   "execution_count": 99,
   "metadata": {},
   "outputs": [
    {
     "name": "stdout",
     "output_type": "stream",
     "text": [
      "498\n"
     ]
    }
   ],
   "source": [
    "# Complete aqui seu código\n",
    "#Criando uma variável no formato timedelta \n",
    "d = data_atual - inicio_ano_ant\n",
    "#Pegando o componente dias dessa variável\n",
    "dias = d.days\n",
    "print(dias)"
   ]
  },
  {
   "cell_type": "markdown",
   "metadata": {},
   "source": [
    "# Exercício 11 -  Criar uma variável que represente a data de exatamente um ano atrás, e imprimir o valor desta variável.\n",
    "\n"
   ]
  },
  {
   "cell_type": "code",
   "execution_count": 111,
   "metadata": {},
   "outputs": [
    {
     "name": "stdout",
     "output_type": "stream",
     "text": [
      "2017-05-14\n"
     ]
    }
   ],
   "source": [
    "# Complete aqui seu código\n",
    "#Criando uma variável que guarde a data de um ano atrás\n",
    "anoatras = data_atual - dt.timedelta(365)\n",
    "print(anoatras)"
   ]
  },
  {
   "cell_type": "markdown",
   "metadata": {},
   "source": [
    "# Desafio: identificar o último dia do mês de fevereiro de 2016"
   ]
  },
  {
   "cell_type": "code",
   "execution_count": 143,
   "metadata": {},
   "outputs": [
    {
     "name": "stdout",
     "output_type": "stream",
     "text": [
      "2016-02-29 00:00:00\n"
     ]
    }
   ],
   "source": [
    "# Complete aqui seu código\n",
    "#Cria uma variavel que recebe o dia depois do dia 28 de fevereiro de 2016\n",
    "dfev = dt.datetime(2016, 2, 28)\n",
    "ultimodiafev = dfev + dt.timedelta(1)\n",
    "#Cria uma variavel com o mes do dia depois do dia 28/02/2016\n",
    "mes=dt.datetime.strftime(diafev, \"%m\")\n",
    "\n",
    "#Condição que verifica se o mes do dia depois de 28 ainda é fevereiro \n",
    "if mes== dt.datetime.strftime(dfev, \"%m\"):\n",
    "    print(ultimodiafev)\n",
    "#Se não for imprime o dia 28\n",
    "else:\n",
    "        print(dfev)\n",
    "\n",
    "\n"
   ]
  }
 ],
 "metadata": {
  "kernelspec": {
   "display_name": "Python 3",
   "language": "python",
   "name": "python3"
  },
  "language_info": {
   "codemirror_mode": {
    "name": "ipython",
    "version": 3
   },
   "file_extension": ".py",
   "mimetype": "text/x-python",
   "name": "python",
   "nbconvert_exporter": "python",
   "pygments_lexer": "ipython3",
   "version": "3.6.4"
  }
 },
 "nbformat": 4,
 "nbformat_minor": 2
}
