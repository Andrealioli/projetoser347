{
 "cells": [
  {
   "cell_type": "markdown",
   "metadata": {},
   "source": [
    "Exercício 1: Escreva uma função em Python que receba o tamanho dos lados de um triângulo e que avalie se esses valores realmente formam um triângulo. Forneça pelo menos um exemplo de uso desta função."
   ]
  },
  {
   "cell_type": "code",
   "execution_count": 97,
   "metadata": {},
   "outputs": [],
   "source": [
    "#Função que recebe os tamanhos de três lados e verifica se forma um triânguulo ou não, retornando um boleano (True ou False)\n",
    "def triangulo(a, b, c):\n",
    "  \n",
    "    # checar se os lados formam um triângulo, segundo a regra:\n",
    "    # | b - c | < a < b + c \n",
    "    # | a - c | < b < a + c \n",
    "    # | a - b | < c < a + b \n",
    "    if abs(b - c) < a and a < (b + c) and \\\n",
    "       abs(a - c) < b and b < (a + c) and \\\n",
    "       abs(a - b) < c and c < (a + b): \n",
    " \n",
    "        result = True\n",
    " \n",
    "    else:\n",
    "        result = False\n",
    "    return(result)\n",
    "        "
   ]
  },
  {
   "cell_type": "code",
   "execution_count": 98,
   "metadata": {},
   "outputs": [
    {
     "data": {
      "text/plain": [
       "True"
      ]
     },
     "execution_count": 98,
     "metadata": {},
     "output_type": "execute_result"
    }
   ],
   "source": [
    "#Exemplo de uso da função\n",
    "triangulo(3, 3, 3)\n"
   ]
  },
  {
   "cell_type": "markdown",
   "metadata": {},
   "source": [
    "Exercício 02. Escreva uma função em Python que receba três números e retorne o\n",
    "valor do menor e maior nesta ordem. Forneça pelo menos um exemplo de uso desta função."
   ]
  },
  {
   "cell_type": "code",
   "execution_count": 12,
   "metadata": {},
   "outputs": [],
   "source": [
    " #Esta função recebe três números e retorna o menor e o maior\n",
    "    def maioremenor(n1, n2, n3):\n",
    "    #Verifica as condições para o valor menor\n",
    "    if n1 <= n2 and n1 <= n3:\n",
    "        valormenor = n1\n",
    "    elif n2 <= n1 and n2 <= n3:\n",
    "        valormenor = n2\n",
    "    else:\n",
    "        valormenor = n3\n",
    "   #Verifica as condições para o valor maior\n",
    "    if n1 >= n2 and n1 >= n3:\n",
    "        valormaior = n1\n",
    "    elif n2 >= n1 and n2 >= n3:\n",
    "        valormaior = n2\n",
    "    else:\n",
    "        valormaior = n3\n",
    "    return (valormenor, valormaior)"
   ]
  },
  {
   "cell_type": "code",
   "execution_count": 13,
   "metadata": {},
   "outputs": [
    {
     "data": {
      "text/plain": [
       "(0, 1)"
      ]
     },
     "execution_count": 13,
     "metadata": {},
     "output_type": "execute_result"
    }
   ],
   "source": [
    "#exemplo de uso da função\n",
    "maioremenor(0,0,1)"
   ]
  },
  {
   "cell_type": "markdown",
   "metadata": {},
   "source": [
    "Exercício 03. Crie funções para computar cada uma das seguintes séries Lucas, Pell, Triangular, Square, Pentagonal."
   ]
  },
  {
   "cell_type": "code",
   "execution_count": 41,
   "metadata": {},
   "outputs": [],
   "source": [
    "#Função que recebe o número de elementos que serão salvos em uma lista com os valores dos elementos da série lucas\n",
    "def lucas(q):\n",
    "    #Criando uma lista vazia para receber os valores\n",
    "    Lucas = []\n",
    "     # pode-se definir os termos iniciais antes da repetição\n",
    "    n_0= 2\n",
    "    n_1 = 1\n",
    "    n = 2\n",
    "    if q == 1:\n",
    "        Lucas.append(n_0)\n",
    "    elif q == 2:\n",
    "        n_1 = 1\n",
    "        Lucas.append(n_1)\n",
    "    elif q > 2:    \n",
    "        Lucas.append(n_0)\n",
    "        Lucas.append(n_1)\n",
    "    # começamos a repetição do termo dependente\n",
    "        while n < q:\n",
    "            lucas = n_1 + n_0\n",
    "            n = n + 1\n",
    "            n_0 = n_1\n",
    "            n_1 = lucas\n",
    "            Lucas.append (lucas)\n",
    "    #retorna a lista com os valores da sequencia\n",
    "    return (Lucas)"
   ]
  },
  {
   "cell_type": "code",
   "execution_count": 42,
   "metadata": {},
   "outputs": [
    {
     "data": {
      "text/plain": [
       "[2, 1, 3, 4, 7, 11, 18, 29, 47, 76]"
      ]
     },
     "execution_count": 42,
     "metadata": {},
     "output_type": "execute_result"
    }
   ],
   "source": [
    "#Exemplo de uso da função Lucas retornando uma lista com a sequencia com o número de elementos definidos\n",
    "lucas(10)"
   ]
  },
  {
   "cell_type": "code",
   "execution_count": 51,
   "metadata": {},
   "outputs": [],
   "source": [
    "#Função que recebe o número de elementos a serem salvos em uma lista da sequencia Pell\n",
    "def pell(q):   \n",
    "    Pell=[]\n",
    "    # definidnao os termos iniciais antes da repetição\n",
    "    n_0 = 0\n",
    "    n_1 = 1\n",
    "    n = 2\n",
    "    if q == 1:\n",
    "        Pell.append(n_0)\n",
    "    elif q == 2:\n",
    "        Pell.append(n_1)\n",
    "    elif q > 2:\n",
    "        Pell.append(n_0)\n",
    "        Pell.append(n_1)\n",
    "       # começamos a repetição do termo dependente\n",
    "        while n < q:\n",
    "            pell = 2 * n_0 + n_1\n",
    "            Pell.append(pell)\n",
    "            n = n + 1\n",
    "            n_1 = n_0\n",
    "            n_0 = pell\n",
    "    #retorna a lista com os valores da sequencia\n",
    "    return(Pell)"
   ]
  },
  {
   "cell_type": "code",
   "execution_count": 55,
   "metadata": {},
   "outputs": [
    {
     "data": {
      "text/plain": [
       "[0, 1, 1, 2, 5, 12, 29, 70, 169, 408]"
      ]
     },
     "execution_count": 55,
     "metadata": {},
     "output_type": "execute_result"
    }
   ],
   "source": [
    "#Exemplo de uso da função da sequencia de Pell retornando uma lista com o número de elementos inseridos na funçao\n",
    "pell(10)"
   ]
  },
  {
   "cell_type": "code",
   "execution_count": 62,
   "metadata": {},
   "outputs": [],
   "source": [
    "#Função que recebe o número de elementos da sequencia Tirangular a serem salvos em uma lista\n",
    "def triangular(q):\n",
    "    #Criando uma lista vazia para receber\n",
    "    Triangular = []\n",
    "    n = 1\n",
    "    Triangular.append(0.0)\n",
    "\n",
    "    while n < q:\n",
    "        triangu = n * (n + 1) / 2\n",
    "        Triangular.append(triangu)\n",
    "        n = n + 1\n",
    "    return(Triangular)"
   ]
  },
  {
   "cell_type": "code",
   "execution_count": 64,
   "metadata": {},
   "outputs": [
    {
     "data": {
      "text/plain": [
       "10"
      ]
     },
     "execution_count": 64,
     "metadata": {},
     "output_type": "execute_result"
    }
   ],
   "source": [
    "#Exemplo de uso da função da sequencia de Triangular retornando uma lista com o número de elementos inseridos na funçao\n",
    "triangular(10)"
   ]
  },
  {
   "cell_type": "code",
   "execution_count": 74,
   "metadata": {},
   "outputs": [],
   "source": [
    "#Função que recebe o número de elementos da sequencia Square a serem salvos em uma lista\n",
    "def square(q):\n",
    "    Square=[]\n",
    "\n",
    "    n = 1\n",
    "\n",
    "    while n <= q:\n",
    "        square = n * n\n",
    "        Square.append(square)\n",
    "        n = n + 1\n",
    "    return(Square)"
   ]
  },
  {
   "cell_type": "code",
   "execution_count": 76,
   "metadata": {},
   "outputs": [
    {
     "data": {
      "text/plain": [
       "[1, 4, 9, 16, 25, 36, 49, 64, 81, 100]"
      ]
     },
     "execution_count": 76,
     "metadata": {},
     "output_type": "execute_result"
    }
   ],
   "source": [
    "#Exemplo de uso da função da sequencia de Square retornando uma lista com o número de elementos inseridos na funçao\n",
    "square(10)"
   ]
  },
  {
   "cell_type": "code",
   "execution_count": 77,
   "metadata": {},
   "outputs": [],
   "source": [
    "#Função que recebe o número de elementos da sequencia Pentagonal a serem salvos em uma lista\n",
    "def pentagonal(q):\n",
    "    Pentagonal=[]\n",
    "\n",
    "    n = 1\n",
    "\n",
    "    while n <= q:\n",
    "        pent= (3 * n * n - n) / 2\n",
    "        Pentagonal.append(pent)\n",
    "        n = n + 1\n",
    "    return(Pentagonal)"
   ]
  },
  {
   "cell_type": "code",
   "execution_count": 80,
   "metadata": {},
   "outputs": [
    {
     "data": {
      "text/plain": [
       "[1.0, 5.0, 12.0, 22.0, 35.0, 51.0, 70.0, 92.0, 117.0, 145.0]"
      ]
     },
     "execution_count": 80,
     "metadata": {},
     "output_type": "execute_result"
    }
   ],
   "source": [
    "pentagonal(10)"
   ]
  },
  {
   "cell_type": "markdown",
   "metadata": {},
   "source": [
    "Exercício 04. Crie uma função que veri\u001c",
    "que se uma string é um palíndromo. Exemplos\n",
    "de palíndromos: \"ana\", \"arara\", \"anilina\", \"asa\", \"mussum\", \"osso\", \"reviver\", \"salas\",\n",
    "\"ralar \", \"madam\", \"rotor\", \"level\", \"civic\". Forneça exemplos de uso da função criada."
   ]
  },
  {
   "cell_type": "code",
   "execution_count": 85,
   "metadata": {},
   "outputs": [],
   "source": [
    "#Funçaõ recebe uma palavra ou numero e verifica se á palíndromo ou não, retornando um bolleano(True ou False)\n",
    "def palindromo(word):\n",
    "    #Converte todas as letras da string para minuscula\n",
    "    word = word.lower()\n",
    "    #Estabelecendo os símbolos e letras acentuadas que devem ser substituidas\n",
    "    letraa = 'áâàãä'\n",
    "    letrae = 'éêèë'\n",
    "    letrai = 'ìíïî'\n",
    "    letrao = 'òôóõö'\n",
    "    letrau = 'ùûúü'\n",
    "    simbolos = '-\"/.,!?;:></&%*$#@+=\\|ªº°)(_§'\n",
    "    l_word = list(word)\n",
    "    for i in range(len(l_word)):\n",
    "        if l_word[i] in letraa:\n",
    "            l_word[i] = 'a'\n",
    "        if l_word[i] in letrae:\n",
    "            l_word[i] = 'e'\n",
    "        if l_word[i] in letrai:\n",
    "            l_word[i] = 'i'\n",
    "        if l_word[i] in letrao:\n",
    "            l_word[i] = 'o'\n",
    "        if l_word[i] in letrau:\n",
    "            l_word[i] = 'u'\n",
    "        if l_word[i] == 'ç':\n",
    "            l_word[i] = 'c'\n",
    "        if l_word[i]== 'ñ':\n",
    "            l_word[i] = 'n'\n",
    "        if l_word[i] in simbolos:\n",
    "            l_word[i] = \"\"\n",
    "    #Transformando a lista em string novamente\n",
    "    s_word = \"\".join(l_word)\n",
    "\n",
    "    #A condição para uma palavra ser palindromo é que o inverso dela seja igual a palavra\n",
    "    if s_word == s_word[::-1]: #inverso de string\n",
    "        result = True \n",
    "    #Caso contrário\n",
    "    else:\n",
    "        result = False\n",
    "    return(result)"
   ]
  },
  {
   "cell_type": "code",
   "execution_count": 86,
   "metadata": {},
   "outputs": [
    {
     "data": {
      "text/plain": [
       "True"
      ]
     },
     "execution_count": 86,
     "metadata": {},
     "output_type": "execute_result"
    }
   ],
   "source": [
    "palindromo(\"AnA\")"
   ]
  },
  {
   "cell_type": "markdown",
   "metadata": {},
   "source": [
    "Exercício 05. Faça uma função que veri\u001c",
    "que se uma frase é um palíndromo. Nesse\n",
    "caso, os espaços, acentos e símbolos devem ser desconsiderados, e não há diferença entre\n",
    "maiúsculas e minúsculas. Exemplos de frases palíndromos: \"Never odd or even\", \"ROMA\n",
    "TIBI SUBITO MOTIBUS IBIT AMOR\", \"Socorram-me, subi no ônibus em Marrocos!\".\n",
    "Forneça exemplos de uso da função criada."
   ]
  },
  {
   "cell_type": "code",
   "execution_count": 87,
   "metadata": {},
   "outputs": [],
   "source": [
    "#Função recebe uma frase e verifica se á palindromo ou não, retornando um bollenao (True ou False)\n",
    "def frasep(frase):\n",
    "   \n",
    "    frase = frase.lower()\n",
    "\n",
    "    #Estabelecendo os símbolos e letras acentuadas que devem ser substituidas ou removidas\n",
    "    simbolos = '-\"/.,!?;:></&%*$#@+=\\|'\n",
    "    letraa = 'áâàãä'\n",
    "    letrae = 'éêèë'\n",
    "    letrai = 'ìíïî'\n",
    "    letrao = 'òôóõö'\n",
    "    letrau = 'ùûúü'\n",
    "    l_frase = list(frase)\n",
    "\n",
    "    #Verificadno os casos e substituindo ou apagando os itens especiais\n",
    "    for i in range(len(l_frase)):\n",
    "        if l_frase[i] in letraa:\n",
    "            l_frase[i] = 'a'\n",
    "        if l_frase[i] in letrae:\n",
    "            l_frase[i] = 'e'\n",
    "        if l_frase[i] in letrai:\n",
    "            l_frase[i] = 'i'\n",
    "        if l_frase[i] in letrao:\n",
    "            l_frase[i] = 'o'\n",
    "        if l_frase[i] in letrau:\n",
    "            l_frase[i] = 'u'\n",
    "        if l_frase[i] == 'ç':\n",
    "            l_frase[i] = 'c'\n",
    "        if l_frase[i] == 'ñ':\n",
    "            l_frase[i] = 'n'\n",
    "        if l_frase[i] in simbolos:\n",
    "            l_frase[i] = \"\"\n",
    "    #Transformando em string e removendo os espaços em branco\n",
    "    s_frase = \"\".join(l_frase)\n",
    "    s_frase = s_frase.replace(\" \", \"\")\n",
    "\n",
    "    #A condição para uma frase ser palindromo é que o inverso dela seja igual a frase original\n",
    "    if s_frase == s_frase[::-1]: #inverso de string\n",
    "        result=True\n",
    "    #Caso contrário\n",
    "    else:\n",
    "        result=False\n",
    "    return(result)"
   ]
  },
  {
   "cell_type": "code",
   "execution_count": 88,
   "metadata": {},
   "outputs": [
    {
     "data": {
      "text/plain": [
       "True"
      ]
     },
     "execution_count": 88,
     "metadata": {},
     "output_type": "execute_result"
    }
   ],
   "source": [
    "frasep(\"Never odd or even\")"
   ]
  },
  {
   "cell_type": "markdown",
   "metadata": {},
   "source": [
    "Exercício 06. Crie uma função em Python que avalie se dois segmentos de reta se interceptam\n",
    "ou não. Utilize o código disponível no site do curso (aula 06)."
   ]
  },
  {
   "cell_type": "code",
   "execution_count": 95,
   "metadata": {},
   "outputs": [],
   "source": [
    "#Função que recebe as posições de dois segmentos e verifica se se interceptão ou não, retornando um bolleano (True ou False)\n",
    "def inter(x1, y1, x2, y2, x3, y3, x4, y4):\n",
    "\n",
    "    # Posição de P3 em relação a P1 e P2\n",
    "    s123 = (y2 - y1) * (x3 - x1) - (x2 - x1) * (y3 - y1)\n",
    "\n",
    "    # Posição de P4 em relação a P1 e P2\n",
    "    s124 = (y2 - y1) * (x4 - x1) - (x2 - x1) * (y4 - y1)\n",
    "\n",
    "\n",
    "    if (s123 == 0.0) and (s124 == 0.0):   # tratam-se de segmentos colineares?\n",
    "\n",
    "        if x1 == x2: # se s1 é vertical => s2 também é vertical!\n",
    "          result = (min(y1, y2) <= max(y3, y4)) and (min(y3, y4) <= max(y1, y2))\n",
    "        else:\n",
    "          result = (min(x1, x2) <= max(x3, x4)) and (min(x3, x4) <= max(x1, x2))\n",
    "\n",
    "    else:\n",
    "\n",
    "        s341 = (y4 - y3) * (x1 - x3) - (x4 - x3) * (y1 - y3)\n",
    "        s342 = (y4 - y3) * (x2 - x3) - (x4 - x3) * (y2 - y3)\n",
    "\n",
    "        result = ((s123 * s124) <= 0.0) and ((s341 * s342) <= 0.0)\n",
    "    #retorna o velor boleano se os segmentos se interceptam ou não\n",
    "    return(result)\n"
   ]
  },
  {
   "cell_type": "code",
   "execution_count": 96,
   "metadata": {},
   "outputs": [
    {
     "data": {
      "text/plain": [
       "False"
      ]
     },
     "execution_count": 96,
     "metadata": {},
     "output_type": "execute_result"
    }
   ],
   "source": [
    "#Exemplo de uso da função\n",
    "inter(1, 3, 5, 6, 1, 8, 10, 9)"
   ]
  }
 ],
 "metadata": {
  "kernelspec": {
   "display_name": "Python (geospatial)",
   "language": "python",
   "name": "geospatial"
  },
  "language_info": {
   "codemirror_mode": {
    "name": "ipython",
    "version": 3
   },
   "file_extension": ".py",
   "mimetype": "text/x-python",
   "name": "python",
   "nbconvert_exporter": "python",
   "pygments_lexer": "ipython3",
   "version": "3.6.5"
  }
 },
 "nbformat": 4,
 "nbformat_minor": 2
}
