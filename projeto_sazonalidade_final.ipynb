{
 "cells": [
  {
   "cell_type": "markdown",
   "metadata": {},
   "source": [
    "# SER-347 - Introdução à Programação para Sensoriamento Remoto"
   ]
  },
  {
   "cell_type": "markdown",
   "metadata": {},
   "source": [
    "# Sazonalidade de Cheias - Seasonality Index"
   ]
  },
  {
   "cell_type": "markdown",
   "metadata": {},
   "source": [
    "-  Ana Carolina Calderaro\n",
    "-  Andréa Lima\n",
    "-  Felício Cassalho"
   ]
  },
  {
   "cell_type": "markdown",
   "metadata": {},
   "source": [
    "# 1. Introdução"
   ]
  },
  {
   "cell_type": "markdown",
   "metadata": {},
   "source": [
    "<div style=\"text-align: justify\"> Índices de sazonalidade de cheias têm sido utilizados para delinear regiões hidrologicamente homogêneas, sendo aplicados para fins de regionalização (Sarhadi and Modarres, 2011). Uma das principais razões para o uso desses índices tem sido atribuída ao fato de serem dados observados e quase livre de erros (Ouarda et al.2006). Além disso, eles são utilizados para desenvolver previsões de cheias, políticas de preservação e operações em reservatórios (Chen et al. 2013).</div>"
   ]
  },
  {
   "cell_type": "markdown",
   "metadata": {},
   "source": [
    "<div style=\"text-align: justify\"> Chen et al. (2013) os dividiu em duas categorias, baseadas em: i) mecanismo gerador; e ii) análises estatísticas de cheias, como estatística direcional e frequência relativa.  Entre essas abordagens, estatísticas direcionais destacam-se pela sua eficácia em estabelecer medidas de similaridade a partir da ocorrência de eventos hidrológicos extremos.</div>"
   ]
  },
  {
   "cell_type": "markdown",
   "metadata": {},
   "source": [
    "<div style=\"text-align: justify\"> Segundo Villarini (2016), as estatísticas direcionais são melhor analisadas quando representadas por uma circunferência. Em hidrologia, isso geralmente ocorre se os dados apresentam periodicidade,  i. e. ocorrência de cheias (Pewsey et al., 2013). Entre as estatísticas direcionais existentes o índice de sazonalidade é fortemente recomendado (Cunderlik et al. 2004).</div>"
   ]
  },
  {
   "cell_type": "markdown",
   "metadata": {},
   "source": [
    "\n",
    "<div style=\"text-align: justify\"> Ao aplicar o índice de sazonalidade à análise de cheias, é necessária a identificação da data juliana de cada ocorrência registrada na série $MAS$. Cada data de ocorrência é então convertida em uma valor angular e depois, com base em todas as datas, sua média e variância são calculadas (Chen et al. 2013).</div>"
   ]
  },
  {
   "cell_type": "markdown",
   "metadata": {},
   "source": [
    "![Alt text](https://github.com/Andrealioli/projetoser347/blob/master/imagem.png?raw=true \"Fluxograma\")"
   ]
  },
  {
   "cell_type": "markdown",
   "metadata": {},
   "source": [
    "# 2. Programa para Calcular o Índice de Sazonalidade"
   ]
  },
  {
   "cell_type": "markdown",
   "metadata": {},
   "source": [
    "A função **sazonalidade** recebe a localização de um arquivo _excel_, com uma coluna com datas da máxima cheia da série temporal de uma estação e calcula os valores de $\\bar{x}$,  $\\bar{y}$,  $\\bar{\\theta}$   e  $MDF$ (_Mean Day of Flood_). \n"
   ]
  },
  {
   "cell_type": "markdown",
   "metadata": {},
   "source": [
    "Exemplo da coluna no excel usada na função **sazonalidade**. As datas que aparecem na tabela são as datas do $MAS$ (_Maximum Annual Streamflow_).\n",
    "![Alt text](https://github.com/Andrealioli/projetoser347/blob/master/imagem3.jpg?raw=true \"Excel\")"
   ]
  },
  {
   "cell_type": "code",
   "execution_count": 1,
   "metadata": {},
   "outputs": [],
   "source": [
    "#A função sazonalidade recebe a localização de um arquivo (xlsx) e calcula o índice de sazonalidade de cheias\n",
    "def sazonalidade(file_location):\n",
    "    \n",
    "    #Função que calcula o valor do ângulo theta de cada ano de uma estação\n",
    "    def theta(file_location):\n",
    "        import pandas as pd\n",
    "        import numpy as np\n",
    "        \n",
    "        #Carregando a planilha excel\n",
    "        xl = pd.ExcelFile(file_location)\n",
    "        \n",
    "        #Transformando a planilha em um dataframe\n",
    "        df1 = xl.parse('Plan1')\n",
    "\n",
    "\n",
    "        #Transformando uma data em dia Juliano\n",
    "        import datetime as dt\n",
    "        data_flood = [df1.loc[:]['DATE_ACCESS']]\n",
    "        jd = [ts.dt.dayofyear for ts in data_flood]\n",
    "        anos_bis = [ts.dt.is_leap_year for ts in data_flood]\n",
    "        \n",
    "        #Calculando o ângulo theta i\n",
    "        angulo_theta = np.empty(shape=np.shape(jd))\n",
    "        for j in range(0,len(angulo_theta[0][:]-1)):\n",
    "            if anos_bis[0][j]==True:\n",
    "                angulo_theta[0][j] = jd[0][j]*2*np.pi/366\n",
    "            elif anos_bis[0][j] == False:\n",
    "                angulo_theta[0][j] = jd[0][j] * 2 * np.pi / 365\n",
    "        angulo_theta = angulo_theta[0][:]\n",
    "        #retorna uma lista com os valores de theta i\n",
    "        return(angulo_theta)\n",
    "\n",
    "    # Função que calcula o valor de x médio\n",
    "    def x (angulo_theta):\n",
    "        import numpy as np\n",
    "        import math\n",
    "        costheta = [math.cos(i) for i in angulo_theta]\n",
    "        xvalue= sum(costheta)/len(costheta)\n",
    "        return(xvalue)\n",
    "\n",
    "    # Função que calcula o valor de y médio\n",
    "    def y (angulo_theta):\n",
    "        import numpy as np\n",
    "        import math\n",
    "        sintheta = [math.sin(i) for i in angulo_theta]\n",
    "        yvalue = sum(sintheta) / len(sintheta)\n",
    "        return (yvalue)\n",
    "\n",
    "    #Função que calcula o valor de r com base nos valores de x e y\n",
    "    def r (x, y):\n",
    "        import numpy as np\n",
    "        import math\n",
    "        rvalue = math.sqrt(x**2+y**2)\n",
    "        return(rvalue)\n",
    "    #Função que calcula o valor de theta médio\n",
    "    def angtheta(x, y):\n",
    "        import math\n",
    "        import numpy as np\n",
    "        if x > 0 and y > 0:\n",
    "            t = math.atan(y/x)\n",
    "        elif x < 0:\n",
    "            t = math.atan(y/x)+ math.pi\n",
    "        elif x > 0 and y < 0:\n",
    "            t = math.atan(y/x) + 2*math.pi\n",
    "        elif x == 0 and y > 0:\n",
    "            t = math.pi/2\n",
    "        elif x == 0 and y < 0:\n",
    "            t = (3*math.pi)/2\n",
    "        elif x==0 and y==0:\n",
    "            t = None\n",
    "        return(t)\n",
    "    #Função que calcula o valor do MDF com base no angulo theta médio\n",
    "    def mdf(t):\n",
    "        import math\n",
    "        import numpy as np\n",
    "        m = (t*365)/(2*math.pi)\n",
    "        return(m)\n",
    "    \n",
    "    import numpy as np\n",
    "    index = np.empty(5)\n",
    "    index[0] = x(theta(file_location))\n",
    "    index[1] = y(theta(file_location))\n",
    "    index[2] = r(index[0], index[1])\n",
    "    index[3] = angtheta(index[0], index[1])\n",
    "    index[4] = mdf(index[3])\n",
    "\n",
    "    #print(\"Valores [x, y, r, theta, mdf] \", index )\n",
    "    return([index[0],index[1],index[2],index[3],index[4]])"
   ]
  },
  {
   "cell_type": "markdown",
   "metadata": {},
   "source": [
    "Exemplo de saída da função"
   ]
  },
  {
   "cell_type": "code",
   "execution_count": 2,
   "metadata": {},
   "outputs": [
    {
     "name": "stdout",
     "output_type": "stream",
     "text": [
      "x =  -0.3685282310639447\n",
      "y =  -0.3825037871246037\n",
      "theta =  0.5311517713947534\n",
      "MDF  =  3.9455971385929627\n"
     ]
    }
   ],
   "source": [
    "a = sazonalidade(r\"C:\\Ser347\\DADOS\\72430000_julian.xlsx\")\n",
    "print(\"x = \", a[0])\n",
    "print(\"y = \", a[1])\n",
    "print(\"theta = \", a[2])\n",
    "print(\"MDF  = \", a[3])\n"
   ]
  },
  {
   "cell_type": "markdown",
   "metadata": {},
   "source": [
    "A função **todosdados** recebe um diretório e aplica a função **sazonalidade** para todos os arquivos correspondentes às estações e salva em uma lista. "
   ]
  },
  {
   "cell_type": "code",
   "execution_count": 5,
   "metadata": {},
   "outputs": [],
   "source": [
    "#A função 'todosdados' aplica a função 'sazonalidade' a todos os arquivos correspondentes às séries históricas\n",
    "def todosdados(diretorio):\n",
    "    import os\n",
    "    import numpy as np\n",
    "\n",
    "    arqs = os.listdir(diretorio)\n",
    "    matriz = [] \n",
    "    \n",
    "    for i in arqs:\n",
    "        file_location = diretorio + i\n",
    "        resultados = sazonalidade(file_location)\n",
    "        matriz.append(resultados)\n",
    "    return(matriz)"
   ]
  },
  {
   "cell_type": "markdown",
   "metadata": {},
   "source": [
    "Verificando número de arquivos no diretório **DADOS** que será colocado na função **todosdados**."
   ]
  },
  {
   "cell_type": "code",
   "execution_count": 13,
   "metadata": {},
   "outputs": [
    {
     "name": "stdout",
     "output_type": "stream",
     "text": [
      "Número de arquivos: 69\n"
     ]
    }
   ],
   "source": [
    "#número de estações na pasta\n",
    "import os\n",
    "arqs = os.listdir(\"C:/Ser347/DADOS/\")\n",
    "print(\"Número de arquivos:\", len(arqs))"
   ]
  },
  {
   "cell_type": "code",
   "execution_count": 14,
   "metadata": {},
   "outputs": [
    {
     "name": "stdout",
     "output_type": "stream",
     "text": [
      "[-0.3685282310639447, -0.3825037871246037, 0.5311517713947534, 3.9455971385929627, 229.20587014055243]\n"
     ]
    }
   ],
   "source": [
    "#Exemplo de aplicação da função \n",
    "b = todosdados(\"C:/Ser347/DADOS/\")\n",
    "print(b[0])"
   ]
  },
  {
   "cell_type": "markdown",
   "metadata": {},
   "source": [
    "A função **plot** pega os dados do $r$ e do $\\bar{\\theta}$ de cada estação na matriz criada acima e plota no gráfico polar. Sendo que cada ponto no gráfico representa uma estação. "
   ]
  },
  {
   "cell_type": "code",
   "execution_count": 7,
   "metadata": {},
   "outputs": [],
   "source": [
    "#A função 'plot' plota os dados no gráfico polar\n",
    "def plot(matriz):\n",
    "        import numpy as np\n",
    "        import matplotlib.pyplot as plt\n",
    "        m = np.array(matriz)\n",
    "        \n",
    "        #dados de entrada para a plotagem, o r e t foram extraídos da matriz gerada pela função todosdados(diretorio)\n",
    "        r = m[:, 2]\n",
    "        t = m[:, 3]\n",
    "        area = 10\n",
    "        fig = plt.figure()\n",
    "        ax = fig.add_subplot(111, projection='polar')\n",
    "        ax.set_xlim((0, 2 * np.pi))\n",
    "        \n",
    "        #plotando o gráfico de mês em mês:\n",
    "        ax.set_xticks(\n",
    "            [0, ((np.pi) * (1 / 6)), (np.pi * (2 / 6)), (np.pi * (1 / 2)), (np.pi * (2 / 3)), (np.pi * (5 / 6)), np.pi,\n",
    "             (2 * np.pi * (7 / 12)), \\\n",
    "             (2 * np.pi * (2 / 3)), (2 * np.pi * (3 / 4)), (2 * np.pi * (5 / 6)), (2 * np.pi * (11 / 12)), 2 * np.pi])\n",
    "        ax.scatter(t, r, c='k', s=area, alpha=1)\n",
    "        ax.set_title(\"Índice de Sazonalidade das Cheias no RS \\n\", fontsize=15)\n",
    "        ax.set_xticklabels(\n",
    "            ['1 Jan', '1 Fev', '1 Mar', '1 Abr', '1 Mai', '1 Jun', '1 Jul', '1 Ago', '1 Set', '1 Out', '1 Nov',\n",
    "             '1 Dez'])\n",
    "        ax.set_rmax(1)\n",
    "\n",
    "        plt.show()"
   ]
  },
  {
   "cell_type": "code",
   "execution_count": 8,
   "metadata": {},
   "outputs": [
    {
     "data": {
      "image/png": "[encoded data removed]",
      "text/plain": [
       "<Figure size 432x288 with 1 Axes>"
      ]
     },
     "metadata": {},
     "output_type": "display_data"
    }
   ],
   "source": [
    "#Localização do diretório onde se encontram todas as séries históricas (arquivos xlsx)\n",
    "diretorio = \"C:/Ser347/DADOS/\"\n",
    "\n",
    "#Chamada da função que analisa todos os arquivos, essa função, por sua vez chama a função sazonalidade\n",
    "matriz = todosdados(diretorio) \n",
    "\n",
    "#Aplicando a função de plotagem\n",
    "plot(matriz)"
   ]
  },
  {
   "cell_type": "markdown",
   "metadata": {},
   "source": [
    "Exemplo de aplicação"
   ]
  },
  {
   "cell_type": "markdown",
   "metadata": {},
   "source": [
    "![Alt text](https://github.com/Andrealioli/projetoser347/blob/master/imagem2.png?raw=true \"Mapas Estacoes\")"
   ]
  },
  {
   "cell_type": "markdown",
   "metadata": {},
   "source": [
    "<div style=\"text-align: justify\"> Figura 1: Dia médio de cheias da sérir MAS: (a) valor do vetor 𝑟̅ ; (b) representação combinada  da sazonalidade de cheias de acordo com o índice de sazonalidade; (c) como proposto por Black e Werritty (1997). </div>"
   ]
  }
 ],
 "metadata": {
  "kernelspec": {
   "display_name": "Python 3",
   "language": "python",
   "name": "python3"
  },
  "language_info": {
   "codemirror_mode": {
    "name": "ipython",
    "version": 3
   },
   "file_extension": ".py",
   "mimetype": "text/x-python",
   "name": "python",
   "nbconvert_exporter": "python",
   "pygments_lexer": "ipython3",
   "version": "3.6.4"
  }
 },
 "nbformat": 4,
 "nbformat_minor": 2
}
